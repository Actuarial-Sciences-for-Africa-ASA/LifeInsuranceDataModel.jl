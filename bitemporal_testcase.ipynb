{
 "cells": [
  {
   "cell_type": "code",
   "execution_count": 5,
   "metadata": {},
   "outputs": [
    {
     "name": "stderr",
     "output_type": "stream",
     "text": [
      "┌ Info: SELECT \"contracts\".\"id\" AS \"contracts_id\", \"contracts\".\"ref_history\" AS \"contracts_ref_history\", \"contracts\".\"ref_version\" AS \"contracts_ref_version\" FROM \"contracts\" WHERE id=E'1' ORDER BY contracts.id ASC\n",
      "└ @ SearchLightPostgreSQL /home/mf/.julia/packages/SearchLightPostgreSQL/QUDiV/src/SearchLightPostgreSQL.jl:134\n",
      "┌ Info: SELECT \"validityintervals\".\"id\" AS \"validityintervals_id\", \"validityintervals\".\"ref_history\" AS \"validityintervals_ref_history\", \"validityintervals\".\"ref_version\" AS \"validityintervals_ref_version\", \"validityintervals\".\"tsdb_validfrom\" AS \"validityintervals_tsdb_validfrom\", \"validityintervals\".\"tsworld_validfrom\" AS \"validityintervals_tsworld_validfrom\", \"validityintervals\".\"tsdb_invalidfrom\" AS \"validityintervals_tsdb_invalidfrom\", \"validityintervals\".\"tsworld_invalidfrom\" AS \"validityintervals_tsworld_invalidfrom\", \"validityintervals\".\"is_committed\" AS \"validityintervals_is_committed\" FROM \"validityintervals\" WHERE ref_history=E'6' and tsrworld @> TIMESTAMPTZ E'2022-06-28T15:30:44.826+01:00' AND tsrdb @> TIMESTAMPTZ E'2022-06-28T15:30:44.826+01:00' ORDER BY validityintervals.id ASC\n",
      "└ @ SearchLightPostgreSQL /home/mf/.julia/packages/SearchLightPostgreSQL/QUDiV/src/SearchLightPostgreSQL.jl:134\n"
     ]
    },
    {
     "name": "stderr",
     "output_type": "stream",
     "text": [
      "┌ Info: SELECT \"contracts\".\"id\" AS \"contracts_id\", \"contracts\".\"ref_history\" AS \"contracts_ref_history\", \"contracts\".\"ref_version\" AS \"contracts_ref_version\" FROM \"contracts\" WHERE ref_history=E'6' ORDER BY contracts.id ASC\n",
      "└ @ SearchLightPostgreSQL /home/mf/.julia/packages/SearchLightPostgreSQL/QUDiV/src/SearchLightPostgreSQL.jl:134\n",
      "┌ Info: SELECT \"contractrevisions\".\"id\" AS \"contractrevisions_id\", \"contractrevisions\".\"ref_component\" AS \"contractrevisions_ref_component\", \"contractrevisions\".\"ref_validfrom\" AS \"contractrevisions_ref_validfrom\", \"contractrevisions\".\"ref_invalidfrom\" AS \"contractrevisions_ref_invalidfrom\", \"contractrevisions\".\"description\" AS \"contractrevisions_description\" FROM \"contractrevisions\" WHERE ref_component=E'1' and ref_valid @> BIGINT E'8' ORDER BY contractrevisions.id ASC\n",
      "└ @ SearchLightPostgreSQL /home/mf/.julia/packages/SearchLightPostgreSQL/QUDiV/src/SearchLightPostgreSQL.jl:134\n"
     ]
    },
    {
     "name": "stderr",
     "output_type": "stream",
     "text": [
      "┌ Info: SELECT \"contractpartnerrefs\".\"id\" AS \"contractpartnerrefs_id\", \"contractpartnerrefs\".\"ref_history\" AS \"contractpartnerrefs_ref_history\", \"contractpartnerrefs\".\"ref_version\" AS \"contractpartnerrefs_ref_version\", \"contractpartnerrefs\".\"ref_super\" AS \"contractpartnerrefs_ref_super\" FROM \"contractpartnerrefs\" WHERE ref_history = BIGINT E'6' ORDER BY contractpartnerrefs.id ASC\n",
      "└ @ SearchLightPostgreSQL /home/mf/.julia/packages/SearchLightPostgreSQL/QUDiV/src/SearchLightPostgreSQL.jl:134\n",
      "┌ Info: SELECT \"contractpartnerrefrevisions\".\"id\" AS \"contractpartnerrefrevisions_id\", \"contractpartnerrefrevisions\".\"ref_component\" AS \"contractpartnerrefrevisions_ref_component\", \"contractpartnerrefrevisions\".\"ref_role\" AS \"contractpartnerrefrevisions_ref_role\", \"contractpartnerrefrevisions\".\"ref_validfrom\" AS \"contractpartnerrefrevisions_ref_validfrom\", \"contractpartnerrefrevisions\".\"ref_invalidfrom\" AS \"contractpartnerrefrevisions_ref_invalidfrom\", \"contractpartnerrefrevisions\".\"description\" AS \"contractpartnerrefrevisions_description\", \"contractpartnerrefrevisions\".\"ref_partner\" AS \"contractpartnerrefrevisions_ref_partner\" FROM \"contractpartnerrefrevisions\" WHERE ref_component=E'1' and ref_valid @> BIGINT E'8' ORDER BY contractpartnerrefrevisions.id ASC\n",
      "└ @ SearchLightPostgreSQL /home/mf/.julia/packages/SearchLightPostgreSQL/QUDiV/src/SearchLightPostgreSQL.jl:134\n"
     ]
    },
    {
     "name": "stderr",
     "output_type": "stream",
     "text": [
      "┌ Info: SELECT \"partners\".\"id\" AS \"partners_id\", \"partners\".\"ref_history\" AS \"partners_ref_history\", \"partners\".\"ref_version\" AS \"partners_ref_version\" FROM \"partners\" WHERE id=E'1' ORDER BY partners.id ASC\n",
      "└ @ SearchLightPostgreSQL /home/mf/.julia/packages/SearchLightPostgreSQL/QUDiV/src/SearchLightPostgreSQL.jl:134\n",
      "┌ Info: SELECT \"validityintervals\".\"id\" AS \"validityintervals_id\", \"validityintervals\".\"ref_history\" AS \"validityintervals_ref_history\", \"validityintervals\".\"ref_version\" AS \"validityintervals_ref_version\", \"validityintervals\".\"tsdb_validfrom\" AS \"validityintervals_tsdb_validfrom\", \"validityintervals\".\"tsworld_validfrom\" AS \"validityintervals_tsworld_validfrom\", \"validityintervals\".\"tsdb_invalidfrom\" AS \"validityintervals_tsdb_invalidfrom\", \"validityintervals\".\"tsworld_invalidfrom\" AS \"validityintervals_tsworld_invalidfrom\", \"validityintervals\".\"is_committed\" AS \"validityintervals_is_committed\" FROM \"validityintervals\" WHERE ref_history=E'1' and tsrworld @> TIMESTAMPTZ E'2022-06-28T15:30:44.826+01:00' AND tsrdb @> TIMESTAMPTZ E'2022-06-28T15:30:44.826+01:00' ORDER BY validityintervals.id ASC\n",
      "└ @ SearchLightPostgreSQL /home/mf/.julia/packages/SearchLightPostgreSQL/QUDiV/src/SearchLightPostgreSQL.jl:134\n",
      "┌ Info: SELECT \"partners\".\"id\" AS \"partners_id\", \"partners\".\"ref_history\" AS \"partners_ref_history\", \"partners\".\"ref_version\" AS \"partners_ref_version\" FROM \"partners\" WHERE ref_history=E'1' ORDER BY partners.id ASC\n",
      "└ @ SearchLightPostgreSQL /home/mf/.julia/packages/SearchLightPostgreSQL/QUDiV/src/SearchLightPostgreSQL.jl:134\n",
      "┌ Info: SELECT \"partnerrevisions\".\"id\" AS \"partnerrevisions_id\", \"partnerrevisions\".\"ref_component\" AS \"partnerrevisions_ref_component\", \"partnerrevisions\".\"ref_validfrom\" AS \"partnerrevisions_ref_validfrom\", \"partnerrevisions\".\"ref_invalidfrom\" AS \"partnerrevisions_ref_invalidfrom\", \"partnerrevisions\".\"description\" AS \"partnerrevisions_description\" FROM \"partnerrevisions\" WHERE ref_component=E'1' and ref_valid @> BIGINT E'1' ORDER BY partnerrevisions.id ASC\n",
      "└ @ SearchLightPostgreSQL /home/mf/.julia/packages/SearchLightPostgreSQL/QUDiV/src/SearchLightPostgreSQL.jl:134\n"
     ]
    },
    {
     "name": "stderr",
     "output_type": "stream",
     "text": [
      "┌ Info: SELECT \"productitems\".\"id\" AS \"productitems_id\", \"productitems\".\"ref_history\" AS \"productitems_ref_history\", \"productitems\".\"ref_version\" AS \"productitems_ref_version\", \"productitems\".\"ref_super\" AS \"productitems_ref_super\" FROM \"productitems\" WHERE ref_history = BIGINT E'6' ORDER BY productitems.id ASC\n",
      "└ @ SearchLightPostgreSQL /home/mf/.julia/packages/SearchLightPostgreSQL/QUDiV/src/SearchLightPostgreSQL.jl:134\n",
      "┌ Info: SELECT \"productitemrevisions\".\"id\" AS \"productitemrevisions_id\", \"productitemrevisions\".\"ref_component\" AS \"productitemrevisions_ref_component\", \"productitemrevisions\".\"position\" AS \"productitemrevisions_position\", \"productitemrevisions\".\"ref_validfrom\" AS \"productitemrevisions_ref_validfrom\", \"productitemrevisions\".\"ref_invalidfrom\" AS \"productitemrevisions_ref_invalidfrom\", \"productitemrevisions\".\"description\" AS \"productitemrevisions_description\" FROM \"productitemrevisions\" WHERE ref_component=E'1' and ref_valid @> BIGINT E'8' ORDER BY productitemrevisions.id ASC\n",
      "└ @ SearchLightPostgreSQL /home/mf/.julia/packages/SearchLightPostgreSQL/QUDiV/src/SearchLightPostgreSQL.jl:134\n"
     ]
    },
    {
     "name": "stderr",
     "output_type": "stream",
     "text": [
      "┌ Info: SELECT \"tariffitems\".\"id\" AS \"tariffitems_id\", \"tariffitems\".\"ref_history\" AS \"tariffitems_ref_history\", \"tariffitems\".\"ref_version\" AS \"tariffitems_ref_version\", \"tariffitems\".\"ref_super\" AS \"tariffitems_ref_super\" FROM \"tariffitems\" WHERE ref_history = BIGINT E'6' and ref_super = BIGINT E'1' ORDER BY tariffitems.id ASC\n",
      "└ @ SearchLightPostgreSQL /home/mf/.julia/packages/SearchLightPostgreSQL/QUDiV/src/SearchLightPostgreSQL.jl:134\n",
      "┌ Info: SELECT \"tariffitemrevisions\".\"id\" AS \"tariffitemrevisions_id\", \"tariffitemrevisions\".\"ref_component\" AS \"tariffitemrevisions_ref_component\", \"tariffitemrevisions\".\"ref_role\" AS \"tariffitemrevisions_ref_role\", \"tariffitemrevisions\".\"ref_validfrom\" AS \"tariffitemrevisions_ref_validfrom\", \"tariffitemrevisions\".\"ref_invalidfrom\" AS \"tariffitemrevisions_ref_invalidfrom\", \"tariffitemrevisions\".\"description\" AS \"tariffitemrevisions_description\", \"tariffitemrevisions\".\"ref_tariff\" AS \"tariffitemrevisions_ref_tariff\" FROM \"tariffitemrevisions\" WHERE ref_component=E'1' and ref_valid @> BIGINT E'8' ORDER BY tariffitemrevisions.id ASC\n",
      "└ @ SearchLightPostgreSQL /home/mf/.julia/packages/SearchLightPostgreSQL/QUDiV/src/SearchLightPostgreSQL.jl:134\n"
     ]
    },
    {
     "name": "stderr",
     "output_type": "stream",
     "text": [
      "┌ Info: SELECT \"tariffs\".\"id\" AS \"tariffs_id\", \"tariffs\".\"ref_history\" AS \"tariffs_ref_history\", \"tariffs\".\"ref_version\" AS \"tariffs_ref_version\" FROM \"tariffs\" WHERE id=E'1' ORDER BY tariffs.id ASC\n",
      "└ @ SearchLightPostgreSQL /home/mf/.julia/packages/SearchLightPostgreSQL/QUDiV/src/SearchLightPostgreSQL.jl:134\n",
      "┌ Info: SELECT \"validityintervals\".\"id\" AS \"validityintervals_id\", \"validityintervals\".\"ref_history\" AS \"validityintervals_ref_history\", \"validityintervals\".\"ref_version\" AS \"validityintervals_ref_version\", \"validityintervals\".\"tsdb_validfrom\" AS \"validityintervals_tsdb_validfrom\", \"validityintervals\".\"tsworld_validfrom\" AS \"validityintervals_tsworld_validfrom\", \"validityintervals\".\"tsdb_invalidfrom\" AS \"validityintervals_tsdb_invalidfrom\", \"validityintervals\".\"tsworld_invalidfrom\" AS \"validityintervals_tsworld_invalidfrom\", \"validityintervals\".\"is_committed\" AS \"validityintervals_is_committed\" FROM \"validityintervals\" WHERE ref_history=E'2' and tsrworld @> TIMESTAMPTZ E'2022-06-28T15:30:44.826+01:00' AND tsrdb @> TIMESTAMPTZ E'2022-06-28T15:30:44.826+01:00' ORDER BY validityintervals.id ASC\n",
      "└ @ SearchLightPostgreSQL /home/mf/.julia/packages/SearchLightPostgreSQL/QUDiV/src/SearchLightPostgreSQL.jl:134\n",
      "┌ Info: SELECT \"tariffs\".\"id\" AS \"tariffs_id\", \"tariffs\".\"ref_history\" AS \"tariffs_ref_history\", \"tariffs\".\"ref_version\" AS \"tariffs_ref_version\" FROM \"tariffs\" WHERE ref_history=E'2' ORDER BY tariffs.id ASC\n",
      "└ @ SearchLightPostgreSQL /home/mf/.julia/packages/SearchLightPostgreSQL/QUDiV/src/SearchLightPostgreSQL.jl:134\n",
      "┌ Info: SELECT \"tariffrevisions\".\"id\" AS \"tariffrevisions_id\", \"tariffrevisions\".\"ref_component\" AS \"tariffrevisions_ref_component\", \"tariffrevisions\".\"ref_validfrom\" AS \"tariffrevisions_ref_validfrom\", \"tariffrevisions\".\"ref_invalidfrom\" AS \"tariffrevisions_ref_invalidfrom\", \"tariffrevisions\".\"description\" AS \"tariffrevisions_description\" FROM \"tariffrevisions\" WHERE ref_component=E'1' and ref_valid @> BIGINT E'2' ORDER BY tariffrevisions.id ASC\n",
      "└ @ SearchLightPostgreSQL /home/mf/.julia/packages/SearchLightPostgreSQL/QUDiV/src/SearchLightPostgreSQL.jl:134\n"
     ]
    },
    {
     "name": "stderr",
     "output_type": "stream",
     "text": [
      "┌ Info: SELECT \"tariffitempartnerrefs\".\"id\" AS \"tariffitempartnerrefs_id\", \"tariffitempartnerrefs\".\"ref_history\" AS \"tariffitempartnerrefs_ref_history\", \"tariffitempartnerrefs\".\"ref_version\" AS \"tariffitempartnerrefs_ref_version\", \"tariffitempartnerrefs\".\"ref_super\" AS \"tariffitempartnerrefs_ref_super\" FROM \"tariffitempartnerrefs\" WHERE ref_history = BIGINT E'6' and ref_super = BIGINT E'1' ORDER BY tariffitempartnerrefs.id ASC\n",
      "└ @ SearchLightPostgreSQL /home/mf/.julia/packages/SearchLightPostgreSQL/QUDiV/src/SearchLightPostgreSQL.jl:134\n",
      "┌ Info: SELECT \"tariffitempartnerrefrevisions\".\"id\" AS \"tariffitempartnerrefrevisions_id\", \"tariffitempartnerrefrevisions\".\"ref_component\" AS \"tariffitempartnerrefrevisions_ref_component\", \"tariffitempartnerrefrevisions\".\"ref_role\" AS \"tariffitempartnerrefrevisions_ref_role\", \"tariffitempartnerrefrevisions\".\"ref_validfrom\" AS \"tariffitempartnerrefrevisions_ref_validfrom\", \"tariffitempartnerrefrevisions\".\"ref_invalidfrom\" AS \"tariffitempartnerrefrevisions_ref_invalidfrom\", \"tariffitempartnerrefrevisions\".\"description\" AS \"tariffitempartnerrefrevisions_description\", \"tariffitempartnerrefrevisions\".\"ref_partner\" AS \"tariffitempartnerrefrevisions_ref_partner\" FROM \"tariffitempartnerrefrevisions\" WHERE ref_component=E'1' and ref_valid @> BIGINT E'8' ORDER BY tariffitempartnerrefrevisions.id ASC\n",
      "└ @ SearchLightPostgreSQL /home/mf/.julia/packages/SearchLightPostgreSQL/QUDiV/src/SearchLightPostgreSQL.jl:134\n"
     ]
    },
    {
     "name": "stderr",
     "output_type": "stream",
     "text": [
      "┌ Info: SELECT \"partners\".\"id\" AS \"partners_id\", \"partners\".\"ref_history\" AS \"partners_ref_history\", \"partners\".\"ref_version\" AS \"partners_ref_version\" FROM \"partners\" WHERE id=E'1' ORDER BY partners.id ASC\n",
      "└ @ SearchLightPostgreSQL /home/mf/.julia/packages/SearchLightPostgreSQL/QUDiV/src/SearchLightPostgreSQL.jl:134\n",
      "┌ Info: SELECT \"validityintervals\".\"id\" AS \"validityintervals_id\", \"validityintervals\".\"ref_history\" AS \"validityintervals_ref_history\", \"validityintervals\".\"ref_version\" AS \"validityintervals_ref_version\", \"validityintervals\".\"tsdb_validfrom\" AS \"validityintervals_tsdb_validfrom\", \"validityintervals\".\"tsworld_validfrom\" AS \"validityintervals_tsworld_validfrom\", \"validityintervals\".\"tsdb_invalidfrom\" AS \"validityintervals_tsdb_invalidfrom\", \"validityintervals\".\"tsworld_invalidfrom\" AS \"validityintervals_tsworld_invalidfrom\", \"validityintervals\".\"is_committed\" AS \"validityintervals_is_committed\" FROM \"validityintervals\" WHERE ref_history=E'1' and tsrworld @> TIMESTAMPTZ E'2022-06-28T15:30:44.826+01:00' AND tsrdb @> TIMESTAMPTZ E'2022-06-28T15:30:44.826+01:00' ORDER BY validityintervals.id ASC\n",
      "└ @ SearchLightPostgreSQL /home/mf/.julia/packages/SearchLightPostgreSQL/QUDiV/src/SearchLightPostgreSQL.jl:134\n",
      "┌ Info: SELECT \"partners\".\"id\" AS \"partners_id\", \"partners\".\"ref_history\" AS \"partners_ref_history\", \"partners\".\"ref_version\" AS \"partners_ref_version\" FROM \"partners\" WHERE ref_history=E'1' ORDER BY partners.id ASC\n",
      "└ @ SearchLightPostgreSQL /home/mf/.julia/packages/SearchLightPostgreSQL/QUDiV/src/SearchLightPostgreSQL.jl:134\n",
      "┌ Info: SELECT \"partnerrevisions\".\"id\" AS \"partnerrevisions_id\", \"partnerrevisions\".\"ref_component\" AS \"partnerrevisions_ref_component\", \"partnerrevisions\".\"ref_validfrom\" AS \"partnerrevisions_ref_validfrom\", \"partnerrevisions\".\"ref_invalidfrom\" AS \"partnerrevisions_ref_invalidfrom\", \"partnerrevisions\".\"description\" AS \"partnerrevisions_description\" FROM \"partnerrevisions\" WHERE ref_component=E'1' and ref_valid @> BIGINT E'1' ORDER BY partnerrevisions.id ASC\n",
      "└ @ SearchLightPostgreSQL /home/mf/.julia/packages/SearchLightPostgreSQL/QUDiV/src/SearchLightPostgreSQL.jl:134\n",
      "┌ Info: SELECT \"tariffitemrevisions\".\"id\" AS \"tariffitemrevisions_id\", \"tariffitemrevisions\".\"ref_component\" AS \"tariffitemrevisions_ref_component\", \"tariffitemrevisions\".\"ref_role\" AS \"tariffitemrevisions_ref_role\", \"tariffitemrevisions\".\"ref_validfrom\" AS \"tariffitemrevisions_ref_validfrom\", \"tariffitemrevisions\".\"ref_invalidfrom\" AS \"tariffitemrevisions_ref_invalidfrom\", \"tariffitemrevisions\".\"description\" AS \"tariffitemrevisions_description\", \"tariffitemrevisions\".\"ref_tariff\" AS \"tariffitemrevisions_ref_tariff\" FROM \"tariffitemrevisions\" WHERE ref_component=E'2' and ref_valid @> BIGINT E'8' ORDER BY tariffitemrevisions.id ASC\n",
      "└ @ SearchLightPostgreSQL /home/mf/.julia/packages/SearchLightPostgreSQL/QUDiV/src/SearchLightPostgreSQL.jl:134\n",
      "┌ Info: SELECT \"tariffs\".\"id\" AS \"tariffs_id\", \"tariffs\".\"ref_history\" AS \"tariffs_ref_history\", \"tariffs\".\"ref_version\" AS \"tariffs_ref_version\" FROM \"tariffs\" WHERE id=E'4' ORDER BY tariffs.id ASC\n",
      "└ @ SearchLightPostgreSQL /home/mf/.julia/packages/SearchLightPostgreSQL/QUDiV/src/SearchLightPostgreSQL.jl:134\n",
      "┌ Info: SELECT \"validityintervals\".\"id\" AS \"validityintervals_id\", \"validityintervals\".\"ref_history\" AS \"validityintervals_ref_history\", \"validityintervals\".\"ref_version\" AS \"validityintervals_ref_version\", \"validityintervals\".\"tsdb_validfrom\" AS \"validityintervals_tsdb_validfrom\", \"validityintervals\".\"tsworld_validfrom\" AS \"validityintervals_tsworld_validfrom\", \"validityintervals\".\"tsdb_invalidfrom\" AS \"validityintervals_tsdb_invalidfrom\", \"validityintervals\".\"tsworld_invalidfrom\" AS \"validityintervals_tsworld_invalidfrom\", \"validityintervals\".\"is_committed\" AS \"validityintervals_is_committed\" FROM \"validityintervals\" WHERE ref_history=E'5' and tsrworld @> TIMESTAMPTZ E'2022-06-28T15:30:44.826+01:00' AND tsrdb @> TIMESTAMPTZ E'2022-06-28T15:30:44.826+01:00' ORDER BY validityintervals.id ASC\n",
      "└ @ SearchLightPostgreSQL /home/mf/.julia/packages/SearchLightPostgreSQL/QUDiV/src/SearchLightPostgreSQL.jl:134\n",
      "┌ Info: SELECT \"tariffs\".\"id\" AS \"tariffs_id\", \"tariffs\".\"ref_history\" AS \"tariffs_ref_history\", \"tariffs\".\"ref_version\" AS \"tariffs_ref_version\" FROM \"tariffs\" WHERE ref_history=E'5' ORDER BY tariffs.id ASC\n",
      "└ @ SearchLightPostgreSQL /home/mf/.julia/packages/SearchLightPostgreSQL/QUDiV/src/SearchLightPostgreSQL.jl:134\n",
      "┌ Info: SELECT \"tariffrevisions\".\"id\" AS \"tariffrevisions_id\", \"tariffrevisions\".\"ref_component\" AS \"tariffrevisions_ref_component\", \"tariffrevisions\".\"ref_validfrom\" AS \"tariffrevisions_ref_validfrom\", \"tariffrevisions\".\"ref_invalidfrom\" AS \"tariffrevisions_ref_invalidfrom\", \"tariffrevisions\".\"description\" AS \"tariffrevisions_description\" FROM \"tariffrevisions\" WHERE ref_component=E'4' and ref_valid @> BIGINT E'5' ORDER BY tariffrevisions.id ASC\n",
      "└ @ SearchLightPostgreSQL /home/mf/.julia/packages/SearchLightPostgreSQL/QUDiV/src/SearchLightPostgreSQL.jl:134\n",
      "┌ Info: SELECT \"tariffitempartnerrefs\".\"id\" AS \"tariffitempartnerrefs_id\", \"tariffitempartnerrefs\".\"ref_history\" AS \"tariffitempartnerrefs_ref_history\", \"tariffitempartnerrefs\".\"ref_version\" AS \"tariffitempartnerrefs_ref_version\", \"tariffitempartnerrefs\".\"ref_super\" AS \"tariffitempartnerrefs_ref_super\" FROM \"tariffitempartnerrefs\" WHERE ref_history = BIGINT E'6' and ref_super = BIGINT E'2' ORDER BY tariffitempartnerrefs.id ASC\n",
      "└ @ SearchLightPostgreSQL /home/mf/.julia/packages/SearchLightPostgreSQL/QUDiV/src/SearchLightPostgreSQL.jl:134\n",
      "┌ Info: SELECT \"tariffitempartnerrefrevisions\".\"id\" AS \"tariffitempartnerrefrevisions_id\", \"tariffitempartnerrefrevisions\".\"ref_component\" AS \"tariffitempartnerrefrevisions_ref_component\", \"tariffitempartnerrefrevisions\".\"ref_role\" AS \"tariffitempartnerrefrevisions_ref_role\", \"tariffitempartnerrefrevisions\".\"ref_validfrom\" AS \"tariffitempartnerrefrevisions_ref_validfrom\", \"tariffitempartnerrefrevisions\".\"ref_invalidfrom\" AS \"tariffitempartnerrefrevisions_ref_invalidfrom\", \"tariffitempartnerrefrevisions\".\"description\" AS \"tariffitempartnerrefrevisions_description\", \"tariffitempartnerrefrevisions\".\"ref_partner\" AS \"tariffitempartnerrefrevisions_ref_partner\" FROM \"tariffitempartnerrefrevisions\" WHERE ref_component=E'2' and ref_valid @> BIGINT E'8' ORDER BY tariffitempartnerrefrevisions.id ASC\n",
      "└ @ SearchLightPostgreSQL /home/mf/.julia/packages/SearchLightPostgreSQL/QUDiV/src/SearchLightPostgreSQL.jl:134\n",
      "┌ Info: SELECT \"partners\".\"id\" AS \"partners_id\", \"partners\".\"ref_history\" AS \"partners_ref_history\", \"partners\".\"ref_version\" AS \"partners_ref_version\" FROM \"partners\" WHERE id=E'1' ORDER BY partners.id ASC\n",
      "└ @ SearchLightPostgreSQL /home/mf/.julia/packages/SearchLightPostgreSQL/QUDiV/src/SearchLightPostgreSQL.jl:134\n",
      "┌ Info: SELECT \"validityintervals\".\"id\" AS \"validityintervals_id\", \"validityintervals\".\"ref_history\" AS \"validityintervals_ref_history\", \"validityintervals\".\"ref_version\" AS \"validityintervals_ref_version\", \"validityintervals\".\"tsdb_validfrom\" AS \"validityintervals_tsdb_validfrom\", \"validityintervals\".\"tsworld_validfrom\" AS \"validityintervals_tsworld_validfrom\", \"validityintervals\".\"tsdb_invalidfrom\" AS \"validityintervals_tsdb_invalidfrom\", \"validityintervals\".\"tsworld_invalidfrom\" AS \"validityintervals_tsworld_invalidfrom\", \"validityintervals\".\"is_committed\" AS \"validityintervals_is_committed\" FROM \"validityintervals\" WHERE ref_history=E'1' and tsrworld @> TIMESTAMPTZ E'2022-06-28T15:30:44.826+01:00' AND tsrdb @> TIMESTAMPTZ E'2022-06-28T15:30:44.826+01:00' ORDER BY validityintervals.id ASC\n",
      "└ @ SearchLightPostgreSQL /home/mf/.julia/packages/SearchLightPostgreSQL/QUDiV/src/SearchLightPostgreSQL.jl:134\n",
      "┌ Info: SELECT \"partners\".\"id\" AS \"partners_id\", \"partners\".\"ref_history\" AS \"partners_ref_history\", \"partners\".\"ref_version\" AS \"partners_ref_version\" FROM \"partners\" WHERE ref_history=E'1' ORDER BY partners.id ASC\n",
      "└ @ SearchLightPostgreSQL /home/mf/.julia/packages/SearchLightPostgreSQL/QUDiV/src/SearchLightPostgreSQL.jl:134\n",
      "┌ Info: SELECT \"partnerrevisions\".\"id\" AS \"partnerrevisions_id\", \"partnerrevisions\".\"ref_component\" AS \"partnerrevisions_ref_component\", \"partnerrevisions\".\"ref_validfrom\" AS \"partnerrevisions_ref_validfrom\", \"partnerrevisions\".\"ref_invalidfrom\" AS \"partnerrevisions_ref_invalidfrom\", \"partnerrevisions\".\"description\" AS \"partnerrevisions_description\" FROM \"partnerrevisions\" WHERE ref_component=E'1' and ref_valid @> BIGINT E'1' ORDER BY partnerrevisions.id ASC\n",
      "└ @ SearchLightPostgreSQL /home/mf/.julia/packages/SearchLightPostgreSQL/QUDiV/src/SearchLightPostgreSQL.jl:134\n"
     ]
    },
    {
     "data": {
      "text/plain": [
       "ContractSection(ZonedDateTime(2022, 6, 28, 14, 31, 10, 140, tz\"UTC\"), ZonedDateTime(2022, 6, 28, 14, 31, 10, 140, tz\"UTC\"), 6, 8, ContractRevision\n",
       "| KEY                               | VALUE                                  |\n",
       "|-----------------------------------|----------------------------------------|\n",
       "| description::String               | contract 1, 3rd mutation retrospective |\n",
       "| id::SearchLight.DbId              | 3                                      |\n",
       "| ref_component::SearchLight.DbId   | 1                                      |\n",
       "| ref_invalidfrom::SearchLight.DbId | 9223372036854775807                    |\n",
       "| ref_validfrom::SearchLight.DbId   | 8                                      |\n",
       ", InsuranceContractsController.ContractPartnerReference[InsuranceContractsController.ContractPartnerReference(ContractPartnerRefRevision\n",
       "| KEY                               | VALUE                        |\n",
       "|-----------------------------------|------------------------------|\n",
       "| description::String               | policiyholder ref properties |\n",
       "| id::SearchLight.DbId              | 1                            |\n",
       "| ref_component::SearchLight.DbId   | 1                            |\n",
       "| ref_invalidfrom::SearchLight.DbId | 9223372036854775807          |\n",
       "| ref_partner::SearchLight.DbId     | 1                            |\n",
       "| ref_role::SearchLight.DbId        | 1                            |\n",
       "| ref_validfrom::SearchLight.DbId   | 6                            |\n",
       ", PartnerSection(ZonedDateTime(2022, 6, 28, 14, 31, 3, 527, tz\"UTC\"), ZonedDateTime(2022, 6, 28, 14, 31, 3, 527, tz\"UTC\"), 9223372036854775807, 9223372036854775807, PartnerRevision\n",
       "| KEY                               | VALUE               |\n",
       "|-----------------------------------|---------------------|\n",
       "| description::String               | Partner 1           |\n",
       "| id::SearchLight.DbId              | 1                   |\n",
       "| ref_component::SearchLight.DbId   | 1                   |\n",
       "| ref_invalidfrom::SearchLight.DbId | 9223372036854775807 |\n",
       "| ref_validfrom::SearchLight.DbId   | 1                   |\n",
       "))], ProductItemSection[ProductItemSection(ProductItemRevision\n",
       "| KEY                               | VALUE                  |\n",
       "|-----------------------------------|------------------------|\n",
       "| description::String               | from contract creation |\n",
       "| id::SearchLight.DbId              | 1                      |\n",
       "| position::Int64                   | 1                      |\n",
       "| ref_component::SearchLight.DbId   | 1                      |\n",
       "| ref_invalidfrom::SearchLight.DbId | 9223372036854775807    |\n",
       "| ref_validfrom::SearchLight.DbId   | 6                      |\n",
       ", InsuranceContractsController.TariffItemSection[InsuranceContractsController.TariffItemSection(InsuranceContractsController.TariffItemTariffReference(TariffItemRevision\n",
       "| KEY                               | VALUE                       |\n",
       "|-----------------------------------|-----------------------------|\n",
       "| description::String               | Life Risk tariff parameters |\n",
       "| id::SearchLight.DbId              | 1                           |\n",
       "| ref_component::SearchLight.DbId   | 1                           |\n",
       "| ref_invalidfrom::SearchLight.DbId | 9223372036854775807         |\n",
       "| ref_role::SearchLight.DbId        | 1                           |\n",
       "| ref_tariff::SearchLight.DbId      | 1                           |\n",
       "| ref_validfrom::SearchLight.DbId   | 6                           |\n",
       ", TariffSection(ZonedDateTime(2022, 6, 28, 14, 31, 8, 321, tz\"UTC\"), ZonedDateTime(2022, 6, 28, 14, 31, 8, 321, tz\"UTC\"), 9223372036854775807, 9223372036854775807, TariffRevision\n",
       "| KEY                               | VALUE               |\n",
       "|-----------------------------------|---------------------|\n",
       "| description::String               | Life Risk Insurance |\n",
       "| id::SearchLight.DbId              | 1                   |\n",
       "| ref_component::SearchLight.DbId   | 1                   |\n",
       "| ref_invalidfrom::SearchLight.DbId | 9223372036854775807 |\n",
       "| ref_validfrom::SearchLight.DbId   | 2                   |\n",
       ")), InsuranceContractsController.TariffItemPartnerReference[InsuranceContractsController.TariffItemPartnerReference(TariffItemPartnerRefRevision\n",
       "| KEY                               | VALUE                    |\n",
       "|-----------------------------------|--------------------------|\n",
       "| description::String               | partner 1 ref properties |\n",
       "| id::SearchLight.DbId              | 1                        |\n",
       "| ref_component::SearchLight.DbId   | 1                        |\n",
       "| ref_invalidfrom::SearchLight.DbId | 9223372036854775807      |\n",
       "| ref_partner::SearchLight.DbId     | 1                        |\n",
       "| ref_role::SearchLight.DbId        | 1                        |\n",
       "| ref_validfrom::SearchLight.DbId   | 6                        |\n",
       ", PartnerSection(ZonedDateTime(2022, 6, 28, 14, 31, 10, 54, tz\"UTC\"), ZonedDateTime(2022, 6, 28, 14, 31, 10, 54, tz\"UTC\"), 9223372036854775807, 9223372036854775807, PartnerRevision\n",
       "| KEY                               | VALUE               |\n",
       "|-----------------------------------|---------------------|\n",
       "| description::String               | Partner 1           |\n",
       "| id::SearchLight.DbId              | 1                   |\n",
       "| ref_component::SearchLight.DbId   | 1                   |\n",
       "| ref_invalidfrom::SearchLight.DbId | 9223372036854775807 |\n",
       "| ref_validfrom::SearchLight.DbId   | 1                   |\n",
       "))]), InsuranceContractsController.TariffItemSection(InsuranceContractsController.TariffItemTariffReference(TariffItemRevision\n",
       "| KEY                               | VALUE                                  |\n",
       "|-----------------------------------|----------------------------------------|\n",
       "| description::String               | Profit participation tariff parameters |\n",
       "| id::SearchLight.DbId              | 2                                      |\n",
       "| ref_component::SearchLight.DbId   | 2                                      |\n",
       "| ref_invalidfrom::SearchLight.DbId | 9223372036854775807                    |\n",
       "| ref_role::SearchLight.DbId        | 4                                      |\n",
       "| ref_tariff::SearchLight.DbId      | 4                                      |\n",
       "| ref_validfrom::SearchLight.DbId   | 6                                      |\n",
       ", TariffSection(ZonedDateTime(2022, 6, 28, 14, 31, 10, 60, tz\"UTC\"), ZonedDateTime(2022, 6, 28, 14, 31, 10, 60, tz\"UTC\"), 9223372036854775807, 9223372036854775807, TariffRevision\n",
       "| KEY                               | VALUE                |\n",
       "|-----------------------------------|----------------------|\n",
       "| description::String               | Profit participation |\n",
       "| id::SearchLight.DbId              | 4                    |\n",
       "| ref_component::SearchLight.DbId   | 4                    |\n",
       "| ref_invalidfrom::SearchLight.DbId | 9223372036854775807  |\n",
       "| ref_validfrom::SearchLight.DbId   | 5                    |\n",
       ")), InsuranceContractsController.TariffItemPartnerReference[InsuranceContractsController.TariffItemPartnerReference(TariffItemPartnerRefRevision\n",
       "| KEY                               | VALUE                    |\n",
       "|-----------------------------------|--------------------------|\n",
       "| description::String               | partner 1 ref properties |\n",
       "| id::SearchLight.DbId              | 2                        |\n",
       "| ref_component::SearchLight.DbId   | 2                        |\n",
       "| ref_invalidfrom::SearchLight.DbId | 9223372036854775807      |\n",
       "| ref_partner::SearchLight.DbId     | 1                        |\n",
       "| ref_role::SearchLight.DbId        | 1                        |\n",
       "| ref_validfrom::SearchLight.DbId   | 6                        |\n",
       ", PartnerSection(ZonedDateTime(2022, 6, 28, 14, 31, 10, 72, tz\"UTC\"), ZonedDateTime(2022, 6, 28, 14, 31, 10, 72, tz\"UTC\"), 9223372036854775807, 9223372036854775807, PartnerRevision\n",
       "| KEY                               | VALUE               |\n",
       "|-----------------------------------|---------------------|\n",
       "| description::String               | Partner 1           |\n",
       "| id::SearchLight.DbId              | 1                   |\n",
       "| ref_component::SearchLight.DbId   | 1                   |\n",
       "| ref_invalidfrom::SearchLight.DbId | 9223372036854775807 |\n",
       "| ref_validfrom::SearchLight.DbId   | 1                   |\n",
       "))])])], Dict{SearchLight.DbId, Union{ContractSection, PartnerSection, TariffSection}}())"
      ]
     },
     "metadata": {},
     "output_type": "display_data"
    }
   ],
   "source": [
    "push!(LOAD_PATH,\"src\");push!(LOAD_PATH,\"src/model\");push!(LOAD_PATH,\"src/view\")\n",
    "using TimeZones\n",
    "using InsuranceContractsController\n",
    "InsuranceContractsController.csection(1, now(tz\"Africa/Porto-Novo\"),now(tz\"Africa/Porto-Novo\"))"
   ]
  }
 ],
 "metadata": {
  "kernelspec": {
   "display_name": "Julia 1.6.6",
   "language": "julia",
   "name": "julia-1.6"
  },
  "language_info": {
   "file_extension": ".jl",
   "mimetype": "application/julia",
   "name": "julia",
   "version": "1.6.6"
  },
  "orig_nbformat": 4
 },
 "nbformat": 4,
 "nbformat_minor": 2
}
