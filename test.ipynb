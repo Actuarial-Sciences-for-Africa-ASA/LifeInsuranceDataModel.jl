{
 "cells": [
  {
   "cell_type": "code",
   "execution_count": null,
   "metadata": {},
   "outputs": [],
   "source": [
    "include(\"testCreteContract.jl\")"
   ]
  }
 ],
 "metadata": {
    "kernelspec": {
        "display_name": "Julia 1.8.2",
        "language": "julia",
        "name": "julia-1.8"
       },
       "language_info": {
        "file_extension": ".jl",
        "mimetype": "application/julia",
        "name": "julia",
        "version": "1.10.3"
       }
 },
 "nbformat": 4,
 "nbformat_minor": 2
}
