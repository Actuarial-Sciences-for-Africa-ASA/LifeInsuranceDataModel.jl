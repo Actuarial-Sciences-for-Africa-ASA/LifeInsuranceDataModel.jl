{
 "cells": [
  {
   "cell_type": "code",
   "execution_count": 1,
   "metadata": {},
   "outputs": [
    {
     "ename": "SystemError",
     "evalue": "SystemError: opening file \"/workspace/LifeInsuranceDataModel.jl/testCreteContract.jl\": No such file or directory",
     "output_type": "error",
     "traceback": [
      "SystemError: opening file \"/workspace/LifeInsuranceDataModel.jl/testCreteContract.jl\": No such file or directory\n",
      "\n",
      "Stacktrace:\n",
      "  [1] systemerror(p::String, errno::Int32; extrainfo::Nothing)\n",
      "    @ Base ./error.jl:176\n",
      "  [2] systemerror\n",
      "    @ ./error.jl:175 [inlined]\n",
      "  [3] open(fname::String; lock::Bool, read::Nothing, write::Nothing, create::Nothing, truncate::Nothing, append::Nothing)\n",
      "    @ Base ./iostream.jl:293\n",
      "  [4] open\n",
      "    @ ./iostream.jl:275 [inlined]\n",
      "  [5] open(f::Base.var\"#433#434\"{String}, args::String; kwargs::@Kwargs{})\n",
      "    @ Base ./io.jl:394\n",
      "  [6] open\n",
      "    @ ./io.jl:393 [inlined]\n",
      "  [7] read\n",
      "    @ ./io.jl:486 [inlined]\n",
      "  [8] _include(mapexpr::Function, mod::Module, _path::String)\n",
      "    @ Base ./loading.jl:2132\n",
      "  [9] include(fname::String)\n",
      "    @ Base.MainInclude ./client.jl:489\n",
      " [10] top-level scope\n",
      "    @ /workspace/LifeInsuranceDataModel.jl/test.ipynb:1"
     ]
    }
   ],
   "source": [
    "include(\"testCreteContract.jl\")"
   ]
  }
 ],
 "metadata": {
  "kernelspec": {
   "display_name": "Julia 1.10.3",
   "language": "julia",
   "name": "julia-1.10"
  },
  "language_info": {
   "file_extension": ".jl",
   "mimetype": "application/julia",
   "name": "julia",
   "version": "1.10.3"
  }
 },
 "nbformat": 4,
 "nbformat_minor": 2
}
