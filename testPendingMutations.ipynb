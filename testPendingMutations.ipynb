{
 "cells": [
  {
   "cell_type": "code",
   "execution_count": null,
   "metadata": {},
   "outputs": [],
   "source": [
    "push!(LOAD_PATH, \"src\")\n",
    "using BitemporalPostgres, JSON, LifeInsuranceDataModel, SearchLight, Test, TimeZones, ToStruct\n",
    "ENV[\"SEARCHLIGHT_USERNAME\"] = \"postgres\"\n",
    "ENV[\"SEARCHLIGHT_PASSWORD\"] = \"postgres\""
   ]
  },
  {
   "cell_type": "code",
   "execution_count": null,
   "metadata": {},
   "outputs": [],
   "source": [
    "LifeInsuranceDataModel.connect()\n",
    "\n",
    "c = find(Contract)[1]\n",
    "h = c.ref_history\n",
    "w = Workflow(type_of_entity=\"Contract\",\n",
    "    ref_history=h,\n",
    "    tsw_validfrom=ZonedDateTime(2022, 11, 01, 12, 0, 1, 1, tz\"UTC\"),\n",
    ")\n",
    "update_entity!(w)\n",
    "\n",
    "committed = csection(c.id.value, now(tz\"UTC\"), ZonedDateTime(2022, 11, 01, 12, 0, 1, 1, tz\"UTC\"))\n",
    "changed = csection(c.id.value, now(tz\"UTC\"), ZonedDateTime(2022, 11, 01, 12, 0, 1, 1, tz\"UTC\"))\n",
    "\n",
    "changed.revision.description = \"CR first mutation by GUI model\"\n",
    "changed.partner_refs[1].rev.description = \"CPR first mutation by GUI model\"\n",
    "changed.product_items[1].revision.description = \"PIR first mutation by GUI model\"\n",
    "changed.product_items[1].tariff_items[1].tariff_ref.rev.deferment = 9\n",
    "changed.product_items[1].tariff_items[1].tariff_ref.rev.description = \"TIR first mutation by GUI model\"\n",
    "changed.product_items[1].tariff_items[1].partner_refs[1].rev.description = \"bubu|\"\n"
   ]
  },
  {
   "cell_type": "code",
   "execution_count": null,
   "metadata": {},
   "outputs": [],
   "source": [
    "deltas = [\n",
    "    (committed.revision, changed.revision)\n",
    "    (committed.partner_refs[1].rev, changed.partner_refs[1].rev)\n",
    "    (committed.product_items[1].revision, changed.product_items[1].revision)\n",
    "    (committed.product_items[1].tariff_items[1].tariff_ref.rev,changed.product_items[1].tariff_items[1].tariff_ref.rev)\n",
    "    (committed.product_items[1].tariff_items[1].partner_refs[1].rev,changed.product_items[1].tariff_items[1].partner_refs[1].rev)]\n"
   ]
  },
  {
   "cell_type": "code",
   "execution_count": null,
   "metadata": {},
   "outputs": [],
   "source": [
    "for delta in deltas\n",
    "    println(delta)\n",
    "    prev = delta[1]\n",
    "    curr = delta[2]\n",
    "    update_component!(prev, curr, w)\n",
    "end"
   ]
  },
  {
   "cell_type": "code",
   "execution_count": null,
   "metadata": {},
   "outputs": [],
   "source": [
    "persisted = csection(c.id.value, now(tz\"UTC\"), ZonedDateTime(2022, 11, 01, 12, 0, 1, 1, tz\"UTC\"),1)\n",
    "\n",
    "@testset \"persisted pending transactions\" begin\n",
    "    @test(persisted.revision.description == changed.revision.description)\n",
    "    @test(persisted.partner_refs[1].rev.description == changed.partner_refs[1].rev.description)\n",
    "    @test(persisted.product_items[1].revision.description == changed.product_items[1].revision.description)\n",
    "    @test(persisted.product_items[1].tariff_items[1].tariff_ref.rev.deferment == changed.product_items[1].tariff_items[1].tariff_ref.rev.deferment)\n",
    "    @test(persisted.product_items[1].tariff_items[1].tariff_ref.rev.description == changed.product_items[1].tariff_items[1].tariff_ref.rev.description)\n",
    "    @test(persisted.product_items[1].tariff_items[1].partner_refs[1].rev.description == changed.product_items[1].tariff_items[1].partner_refs[1].rev.description)\n",
    "end\n"
   ]
  },
  {
   "cell_type": "code",
   "execution_count": null,
   "metadata": {},
   "outputs": [],
   "source": [
    "rollback_workflow!(w)\n",
    "rolledback = csection(c.id.value, now(tz\"UTC\"), ZonedDateTime(2022, 11, 01, 12, 0, 1, 1, tz\"UTC\"),0)\n",
    "\n",
    "@testset \"rolled back pending transactions\" begin\n",
    "    @test(rolledback.revision.description == committed.revision.description)\n",
    "    @test(rolledback.partner_refs[1].rev.description == committed.partner_refs[1].rev.description)\n",
    "    @test(rolledback.product_items[1].revision.description == committed.product_items[1].revision.description)\n",
    "    @test(rolledback.product_items[1].tariff_items[1].tariff_ref.rev.deferment == committed.product_items[1].tariff_items[1].tariff_ref.rev.deferment)\n",
    "    @test(rolledback.product_items[1].tariff_items[1].tariff_ref.rev.description == committed.product_items[1].tariff_items[1].tariff_ref.rev.description)\n",
    "    @test(rolledback.product_items[1].tariff_items[1].partner_refs[1].rev.description == committed.product_items[1].tariff_items[1].partner_refs[1].rev.description)\n",
    "end"
   ]
  }
 ],
 "metadata": {
  "kernelspec": {
   "display_name": "Julia 1.8.0",
   "language": "julia",
   "name": "julia-1.8"
  },
  "language_info": {
   "file_extension": ".jl",
   "mimetype": "application/julia",
   "name": "julia",
   "version": "1.8.0"
  },
  "orig_nbformat": 4
 },
 "nbformat": 4,
 "nbformat_minor": 2
}
